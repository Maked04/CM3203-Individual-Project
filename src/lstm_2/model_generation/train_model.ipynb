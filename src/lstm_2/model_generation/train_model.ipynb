{
 "cells": [
  {
   "cell_type": "code",
   "execution_count": 1,
   "id": "697e54ef",
   "metadata": {},
   "outputs": [],
   "source": [
    "%load_ext autoreload\n",
    "%autoreload 2"
   ]
  },
  {
   "cell_type": "code",
   "execution_count": 2,
   "id": "17b15744",
   "metadata": {},
   "outputs": [
    {
     "name": "stderr",
     "output_type": "stream",
     "text": [
      "2025-04-18 15:37:43.674671: E external/local_xla/xla/stream_executor/cuda/cuda_fft.cc:467] Unable to register cuFFT factory: Attempting to register factory for plugin cuFFT when one has already been registered\n",
      "WARNING: All log messages before absl::InitializeLog() is called are written to STDERR\n",
      "E0000 00:00:1744987063.705120   35334 cuda_dnn.cc:8579] Unable to register cuDNN factory: Attempting to register factory for plugin cuDNN when one has already been registered\n",
      "E0000 00:00:1744987063.714170   35334 cuda_blas.cc:1407] Unable to register cuBLAS factory: Attempting to register factory for plugin cuBLAS when one has already been registered\n",
      "W0000 00:00:1744987063.753572   35334 computation_placer.cc:177] computation placer already registered. Please check linkage and avoid linking the same target more than once.\n",
      "W0000 00:00:1744987063.753638   35334 computation_placer.cc:177] computation placer already registered. Please check linkage and avoid linking the same target more than once.\n",
      "W0000 00:00:1744987063.753641   35334 computation_placer.cc:177] computation placer already registered. Please check linkage and avoid linking the same target more than once.\n",
      "W0000 00:00:1744987063.753642   35334 computation_placer.cc:177] computation placer already registered. Please check linkage and avoid linking the same target more than once.\n",
      "2025-04-18 15:37:43.770012: I tensorflow/core/platform/cpu_feature_guard.cc:210] This TensorFlow binary is optimized to use available CPU instructions in performance-critical operations.\n",
      "To enable the following instructions: AVX2 FMA, in other operations, rebuild TensorFlow with the appropriate compiler flags.\n"
     ]
    }
   ],
   "source": [
    "# Import packages\n",
    "import numpy as np\n",
    "import os\n",
    "from sklearn.model_selection import train_test_split\n",
    "from sklearn.preprocessing import StandardScaler\n",
    "import tensorflow as tf\n",
    "from tensorflow.keras.models import Sequential # type: ignore\n",
    "from tensorflow.keras.layers import LSTM, Dense, Dropout, BatchNormalization, Bidirectional, Masking # type: ignore\n",
    "from tensorflow.keras.callbacks import EarlyStopping # type: ignore\n",
    "from tensorflow.keras import regularizers # type: ignore\n",
    "import json\n",
    "import datetime\n",
    "\n",
    "# Local imports\n",
    "from src.data_processing.lstm_data_preprocessing import reduce_time_bucket_features, FeaturesConfig\n",
    "from src.data_processing.loader import load_time_bucket_data"
   ]
  },
  {
   "cell_type": "code",
   "execution_count": 3,
   "id": "b6345463",
   "metadata": {},
   "outputs": [],
   "source": [
    "# Define configs\n",
    "features_config = FeaturesConfig(\n",
    "        trade_size_ratio=True,\n",
    "        liquidity_ratio=True,\n",
    "        relative_time=True,\n",
    "        price_change=True,\n",
    "    )\n",
    "\n",
    "test_size = 0.2"
   ]
  },
  {
   "cell_type": "code",
   "execution_count": 4,
   "id": "794539b0",
   "metadata": {},
   "outputs": [],
   "source": [
    "# Generate train - test data\n",
    "\n",
    "X_scaler = StandardScaler()\n",
    "y_scaler = StandardScaler()\n",
    "\n",
    "time_bucket_folder = \"time_bucket_1\"  # Change based on which time bucket configuration you want to used, their preprocessed in different folders\n",
    "token_time_buckets, time_bucket_config = load_time_bucket_data(time_bucket_folder)\n",
    "\n",
    "token_datasets = []\n",
    "for token_address, data in token_time_buckets.items():\n",
    "    X = data[\"X\"]\n",
    "    y = data[\"y\"]\n",
    "    bucket_times = data[\"bucket_times\"]\n",
    "\n",
    "    # Only get the features listed in features_config\n",
    "    X = reduce_time_bucket_features(X, features_config)\n",
    "\n",
    "    token_datasets.append((X, y, token_address, bucket_times))\n",
    "\n",
    "# Combine all token data\n",
    "all_X = np.vstack([data[0] for data in token_datasets])\n",
    "all_y = np.vstack([data[1].reshape(-1, 1) for data in token_datasets])\n",
    "\n",
    "# Scale features\n",
    "num_samples, time_steps, features = all_X.shape\n",
    "X_reshaped = all_X.reshape(num_samples * time_steps, features)\n",
    "X_scaled = X_scaler.fit_transform(X_reshaped)\n",
    "X_scaled = X_scaled.reshape(num_samples, time_steps, features)\n",
    "\n",
    "# Scale target variable also using StandardScaler to preserve direction\n",
    "y_scaled = y_scaler.fit_transform(all_y)\n",
    "\n",
    "# Split the data into training and testing sets\n",
    "X_train, X_test, y_train, y_test = train_test_split(X_scaled, y_scaled, test_size=test_size, shuffle=False)"
   ]
  },
  {
   "cell_type": "code",
   "execution_count": 5,
   "id": "20162865",
   "metadata": {},
   "outputs": [
    {
     "name": "stderr",
     "output_type": "stream",
     "text": [
      "/home/maked/CM3203-Project/CM3203-Venv/lib/python3.12/site-packages/keras/src/layers/core/masking.py:48: UserWarning: Do not pass an `input_shape`/`input_dim` argument to a layer. When using Sequential models, prefer using an `Input(shape)` object as the first layer in the model instead.\n",
      "  super().__init__(**kwargs)\n",
      "I0000 00:00:1744987092.593046   35334 gpu_device.cc:2019] Created device /job:localhost/replica:0/task:0/device:GPU:0 with 4993 MB memory:  -> device: 0, name: NVIDIA GeForce RTX 4060, pci bus id: 0000:08:00.0, compute capability: 8.9\n",
      "2025-04-18 15:38:21.602724: W external/local_xla/xla/tsl/framework/cpu_allocator_impl.cc:83] Allocation of 320812800 exceeds 10% of free system memory.\n",
      "2025-04-18 15:38:23.015094: W external/local_xla/xla/tsl/framework/cpu_allocator_impl.cc:83] Allocation of 320812800 exceeds 10% of free system memory.\n"
     ]
    },
    {
     "name": "stdout",
     "output_type": "stream",
     "text": [
      "Epoch 1/100\n"
     ]
    },
    {
     "name": "stderr",
     "output_type": "stream",
     "text": [
      "I0000 00:00:1744987111.318954   35513 cuda_dnn.cc:529] Loaded cuDNN version 90300\n"
     ]
    },
    {
     "name": "stdout",
     "output_type": "stream",
     "text": [
      "\u001b[1m2089/2089\u001b[0m \u001b[32m━━━━━━━━━━━━━━━━━━━━\u001b[0m\u001b[37m\u001b[0m \u001b[1m0s\u001b[0m 107ms/step - loss: 4.2878"
     ]
    },
    {
     "name": "stderr",
     "output_type": "stream",
     "text": [
      "2025-04-18 15:42:16.781568: W external/local_xla/xla/tsl/framework/cpu_allocator_impl.cc:83] Allocation of 80203200 exceeds 10% of free system memory.\n",
      "2025-04-18 15:42:16.851534: W external/local_xla/xla/tsl/framework/cpu_allocator_impl.cc:83] Allocation of 80203200 exceeds 10% of free system memory.\n"
     ]
    },
    {
     "name": "stdout",
     "output_type": "stream",
     "text": [
      "\u001b[1m2089/2089\u001b[0m \u001b[32m━━━━━━━━━━━━━━━━━━━━\u001b[0m\u001b[37m\u001b[0m \u001b[1m261s\u001b[0m 121ms/step - loss: 4.2877 - val_loss: 9.7282\n",
      "Epoch 2/100\n",
      "\u001b[1m2089/2089\u001b[0m \u001b[32m━━━━━━━━━━━━━━━━━━━━\u001b[0m\u001b[37m\u001b[0m \u001b[1m268s\u001b[0m 128ms/step - loss: 3.8057 - val_loss: 5.0657\n",
      "Epoch 3/100\n",
      "\u001b[1m2089/2089\u001b[0m \u001b[32m━━━━━━━━━━━━━━━━━━━━\u001b[0m\u001b[37m\u001b[0m \u001b[1m255s\u001b[0m 122ms/step - loss: 3.9365 - val_loss: 4.3429\n",
      "Epoch 4/100\n",
      "\u001b[1m2089/2089\u001b[0m \u001b[32m━━━━━━━━━━━━━━━━━━━━\u001b[0m\u001b[37m\u001b[0m \u001b[1m233s\u001b[0m 111ms/step - loss: 3.7409 - val_loss: 4.6232\n",
      "Epoch 5/100\n",
      "\u001b[1m2089/2089\u001b[0m \u001b[32m━━━━━━━━━━━━━━━━━━━━\u001b[0m\u001b[37m\u001b[0m \u001b[1m227s\u001b[0m 109ms/step - loss: 3.5976 - val_loss: 4.4293\n",
      "Epoch 6/100\n",
      "\u001b[1m2089/2089\u001b[0m \u001b[32m━━━━━━━━━━━━━━━━━━━━\u001b[0m\u001b[37m\u001b[0m \u001b[1m231s\u001b[0m 111ms/step - loss: 3.5898 - val_loss: 4.1154\n",
      "Epoch 7/100\n",
      "\u001b[1m2089/2089\u001b[0m \u001b[32m━━━━━━━━━━━━━━━━━━━━\u001b[0m\u001b[37m\u001b[0m \u001b[1m230s\u001b[0m 110ms/step - loss: 3.8977 - val_loss: 4.1249\n",
      "Epoch 8/100\n",
      "\u001b[1m2089/2089\u001b[0m \u001b[32m━━━━━━━━━━━━━━━━━━━━\u001b[0m\u001b[37m\u001b[0m \u001b[1m234s\u001b[0m 112ms/step - loss: 3.4929 - val_loss: 4.5703\n",
      "Epoch 9/100\n",
      "\u001b[1m2089/2089\u001b[0m \u001b[32m━━━━━━━━━━━━━━━━━━━━\u001b[0m\u001b[37m\u001b[0m \u001b[1m240s\u001b[0m 115ms/step - loss: 3.4623 - val_loss: 4.3545\n",
      "Epoch 10/100\n",
      "\u001b[1m2089/2089\u001b[0m \u001b[32m━━━━━━━━━━━━━━━━━━━━\u001b[0m\u001b[37m\u001b[0m \u001b[1m235s\u001b[0m 112ms/step - loss: 3.9911 - val_loss: 4.4689\n",
      "Epoch 11/100\n",
      "\u001b[1m2089/2089\u001b[0m \u001b[32m━━━━━━━━━━━━━━━━━━━━\u001b[0m\u001b[37m\u001b[0m \u001b[1m231s\u001b[0m 111ms/step - loss: 3.4079 - val_loss: 4.1481\n",
      "Epoch 11: early stopping\n",
      "Restoring model weights from the end of the best epoch: 6.\n"
     ]
    }
   ],
   "source": [
    "# Custom loss function\n",
    "def weighted_mse_large_moves(y_true, y_pred):\n",
    "    diff = y_true - y_pred\n",
    "    weight = tf.math.square(y_true)\n",
    "    return tf.reduce_mean(weight * tf.square(diff))\n",
    "\n",
    "epochs = 100\n",
    "batch_size = 32\n",
    "\n",
    "# Model definition\n",
    "model = Sequential()\n",
    "\n",
    "# Masking layer for the padded values\n",
    "model.add(Masking(mask_value=0., input_shape=(X_train.shape[1], X_train.shape[2])))\n",
    "\n",
    "# Input + first LSTM layer\n",
    "model.add(Bidirectional(\n",
    "    LSTM(64, return_sequences=True, kernel_regularizer=regularizers.l2(1e-4))\n",
    "))\n",
    "model.add(BatchNormalization())\n",
    "model.add(Dropout(0.3))\n",
    "\n",
    "# Second LSTM\n",
    "model.add(Bidirectional(\n",
    "    LSTM(64, return_sequences=False, kernel_regularizer=regularizers.l2(1e-4))\n",
    "))\n",
    "model.add(BatchNormalization())\n",
    "model.add(Dropout(0.3))\n",
    "\n",
    "# Dense output layer\n",
    "model.add(Dense(32, activation='relu'))\n",
    "model.add(Dense(1))\n",
    "\n",
    "# Compile\n",
    "model.compile(optimizer='adam', loss=weighted_mse_large_moves)\n",
    "\n",
    "# Callbacks\n",
    "early_stopping = EarlyStopping(\n",
    "    monitor='val_loss',\n",
    "    patience=5,\n",
    "    min_delta=0.001,\n",
    "    mode='min',\n",
    "    restore_best_weights=True,\n",
    "    verbose=1\n",
    ")\n",
    "\n",
    "# Train\n",
    "history = model.fit(\n",
    "    X_train, y_train,\n",
    "    epochs=epochs,\n",
    "    batch_size=batch_size,\n",
    "    validation_data=(X_test, y_test),\n",
    "    callbacks=[early_stopping],\n",
    "    verbose=1\n",
    ")\n"
   ]
  },
  {
   "cell_type": "code",
   "execution_count": 6,
   "id": "9efc7d09",
   "metadata": {},
   "outputs": [
    {
     "name": "stdout",
     "output_type": "stream",
     "text": [
      "Model saved to trained_models/lstm_8/model.keras\n",
      "Configuration saved to trained_models/lstm_8/config.json\n",
      "\n",
      "All model artifacts saved to trained_models/lstm_8\n"
     ]
    }
   ],
   "source": [
    "# Save model\n",
    "\n",
    "# Create a directory to save all model artifacts\n",
    "timestamp = datetime.datetime.now().strftime(\"%Y%m%d_%H%M%S\")\n",
    "base_dir = \"trained_models\"\n",
    "model_name = f\"lstm_{len(os.listdir(base_dir)) + 1}\"\n",
    "model_dir = os.path.join(base_dir, model_name)\n",
    "os.makedirs(model_dir, exist_ok=True)\n",
    "\n",
    "# 1. Save the Keras model\n",
    "model_path = os.path.join(model_dir, \"model.keras\")\n",
    "model.save(model_path)\n",
    "print(f\"Model saved to {model_path}\")\n",
    "\n",
    "\n",
    "# 2. Save configuration parameters\n",
    "# Get optimizer and loss function from model.compile\n",
    "optimizer_name = model.optimizer.__class__.__name__.lower()\n",
    "loss_name = model.loss.__name__ if callable(model.loss) else model.loss\n",
    "\n",
    "# Extract model layers information\n",
    "model_layers = []\n",
    "for layer in model.layers:\n",
    "    layer_config = {\n",
    "        \"name\": layer.name,\n",
    "        \"type\": layer.__class__.__name__\n",
    "    }\n",
    "    \n",
    "    # Add units if available (for LSTM and Dense layers)\n",
    "    if hasattr(layer, \"units\"):\n",
    "        layer_config[\"units\"] = layer.units\n",
    "        \n",
    "    # Add activation if available\n",
    "    if hasattr(layer, \"activation\") and layer.activation is not None:\n",
    "        if hasattr(layer.activation, \"__name__\"):\n",
    "            layer_config[\"activation\"] = layer.activation.__name__\n",
    "        else:\n",
    "            layer_config[\"activation\"] = str(layer.activation)\n",
    "            \n",
    "    # Add dropout rate if applicable\n",
    "    if hasattr(layer, \"rate\"):\n",
    "        layer_config[\"rate\"] = layer.rate\n",
    "        \n",
    "    # Try to get output shape from layer.output if it exists\n",
    "    try:\n",
    "        if hasattr(layer, \"output\") and layer.output is not None:\n",
    "            output_shape = layer.output.shape.as_list()\n",
    "            layer_config[\"output_shape\"] = [dim if dim is not None else -1 for dim in output_shape]\n",
    "    except (AttributeError, ValueError):\n",
    "        # Skip output shape if it causes an error\n",
    "        pass\n",
    "        \n",
    "    model_layers.append(layer_config)\n",
    "\n",
    "# Create configuration dictionary with all parameters used\n",
    "config = {\n",
    "    \"features_config\": vars(features_config),  # Convert class to dict\n",
    "    \"time_bucket_folder\": time_bucket_folder,\n",
    "    \"test_size\": test_size,\n",
    "    \"training_params\": {\n",
    "        \"optimizer\": optimizer_name,\n",
    "        \"loss\": loss_name,\n",
    "        \"epochs\": epochs,\n",
    "        \"batch_size\": batch_size,\n",
    "        \"validation_split\": None,\n",
    "        \"early_stopping\": {\n",
    "            \"monitor\": early_stopping.monitor,\n",
    "            \"patience\": early_stopping.patience,\n",
    "            \"min_delta\": early_stopping.min_delta,\n",
    "            \"mode\": early_stopping.mode,\n",
    "            \"restore_best_weights\": early_stopping.restore_best_weights\n",
    "            }\n",
    "    },\n",
    "    \"model_architecture\": {\n",
    "        \"layers\": model_layers,\n",
    "        \"total_params\": model.count_params()\n",
    "    },\n",
    "    \"timestamp\": timestamp,\n",
    "    \"input_shape\": [dim if dim is not None else -1 for dim in model.input_shape],  # Save input shape\n",
    "    \"X_train_shape\": list(X_train.shape),\n",
    "    \"y_train_shape\": list(y_train.shape)\n",
    "}\n",
    "\n",
    "config_path = os.path.join(model_dir, \"config.json\")\n",
    "with open(config_path, \"w\") as f:\n",
    "    json.dump(config, f, indent=4)\n",
    "print(f\"Configuration saved to {config_path}\")\n",
    "print(f\"\\nAll model artifacts saved to {model_dir}\")"
   ]
  },
  {
   "cell_type": "code",
   "execution_count": 7,
   "id": "cac0ba19",
   "metadata": {},
   "outputs": [
    {
     "data": {
      "image/png": "[encoded data removed]",
      "text/plain": [
       "<Figure size 640x480 with 1 Axes>"
      ]
     },
     "metadata": {},
     "output_type": "display_data"
    }
   ],
   "source": [
    "import matplotlib.pyplot as plt\n",
    "\n",
    "plt.hist(y_train, bins=100, alpha=0.5, label=\"Train\")\n",
    "plt.hist(y_test, bins=100, alpha=0.5, label=\"Test\")\n",
    "plt.legend()\n",
    "plt.title(\"Distribution of Target (y)\")\n",
    "plt.show()\n"
   ]
  }
 ],
 "metadata": {
  "kernelspec": {
   "display_name": "CM3203-Venv",
   "language": "python",
   "name": "python3"
  },
  "language_info": {
   "codemirror_mode": {
    "name": "ipython",
    "version": 3
   },
   "file_extension": ".py",
   "mimetype": "text/x-python",
   "name": "python",
   "nbconvert_exporter": "python",
   "pygments_lexer": "ipython3",
   "version": "3.12.3"
  }
 },
 "nbformat": 4,
 "nbformat_minor": 5
}
